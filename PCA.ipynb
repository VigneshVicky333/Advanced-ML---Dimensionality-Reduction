{
 "cells": [
  {
   "cell_type": "code",
   "execution_count": 2,
   "id": "9033cc37-0a9e-4ba7-8cd7-0a8ca9e6c807",
   "metadata": {},
   "outputs": [],
   "source": [
    "import pandas as pd\n",
    "from sklearn.model_selection import train_test_split \n",
    "import time\n",
    "import numpy as np\n",
    "from sklearn.preprocessing import StandardScaler\n",
    "from sklearn.feature_selection import SelectKBest\n",
    "from sklearn.feature_selection import chi2\n",
    "from sklearn.feature_selection import RFE\n",
    "from sklearn.linear_model import LogisticRegression\n",
    "import pickle\n",
    "import matplotlib.pyplot as plt"
   ]
  },
  {
   "cell_type": "code",
   "execution_count": 3,
   "id": "cff178a4-dae9-4394-b782-d6c866e6e62b",
   "metadata": {},
   "outputs": [],
   "source": [
    "# Importing the dataset\n",
    "dataset = pd.read_csv('prep.csv')"
   ]
  },
  {
   "cell_type": "code",
   "execution_count": 5,
   "id": "1747ba2a-c047-4a8e-a238-1a1628a28384",
   "metadata": {},
   "outputs": [
    {
     "data": {
      "text/html": [
       "<div>\n",
       "<style scoped>\n",
       "    .dataframe tbody tr th:only-of-type {\n",
       "        vertical-align: middle;\n",
       "    }\n",
       "\n",
       "    .dataframe tbody tr th {\n",
       "        vertical-align: top;\n",
       "    }\n",
       "\n",
       "    .dataframe thead th {\n",
       "        text-align: right;\n",
       "    }\n",
       "</style>\n",
       "<table border=\"1\" class=\"dataframe\">\n",
       "  <thead>\n",
       "    <tr style=\"text-align: right;\">\n",
       "      <th></th>\n",
       "      <th>age</th>\n",
       "      <th>bp</th>\n",
       "      <th>sg</th>\n",
       "      <th>al</th>\n",
       "      <th>su</th>\n",
       "      <th>rbc</th>\n",
       "      <th>pc</th>\n",
       "      <th>pcc</th>\n",
       "      <th>ba</th>\n",
       "      <th>bgr</th>\n",
       "      <th>...</th>\n",
       "      <th>pcv</th>\n",
       "      <th>wc</th>\n",
       "      <th>rc</th>\n",
       "      <th>htn</th>\n",
       "      <th>dm</th>\n",
       "      <th>cad</th>\n",
       "      <th>appet</th>\n",
       "      <th>pe</th>\n",
       "      <th>ane</th>\n",
       "      <th>classification</th>\n",
       "    </tr>\n",
       "  </thead>\n",
       "  <tbody>\n",
       "    <tr>\n",
       "      <th>0</th>\n",
       "      <td>2.000000</td>\n",
       "      <td>76.459948</td>\n",
       "      <td>c</td>\n",
       "      <td>3.0</td>\n",
       "      <td>0.0</td>\n",
       "      <td>normal</td>\n",
       "      <td>abnormal</td>\n",
       "      <td>notpresent</td>\n",
       "      <td>notpresent</td>\n",
       "      <td>148.112676</td>\n",
       "      <td>...</td>\n",
       "      <td>38.868902</td>\n",
       "      <td>8408.191126</td>\n",
       "      <td>4.705597</td>\n",
       "      <td>no</td>\n",
       "      <td>no</td>\n",
       "      <td>no</td>\n",
       "      <td>yes</td>\n",
       "      <td>yes</td>\n",
       "      <td>no</td>\n",
       "      <td>yes</td>\n",
       "    </tr>\n",
       "    <tr>\n",
       "      <th>1</th>\n",
       "      <td>3.000000</td>\n",
       "      <td>76.459948</td>\n",
       "      <td>c</td>\n",
       "      <td>2.0</td>\n",
       "      <td>0.0</td>\n",
       "      <td>normal</td>\n",
       "      <td>normal</td>\n",
       "      <td>notpresent</td>\n",
       "      <td>notpresent</td>\n",
       "      <td>148.112676</td>\n",
       "      <td>...</td>\n",
       "      <td>34.000000</td>\n",
       "      <td>12300.000000</td>\n",
       "      <td>4.705597</td>\n",
       "      <td>no</td>\n",
       "      <td>no</td>\n",
       "      <td>no</td>\n",
       "      <td>yes</td>\n",
       "      <td>poor</td>\n",
       "      <td>no</td>\n",
       "      <td>yes</td>\n",
       "    </tr>\n",
       "    <tr>\n",
       "      <th>2</th>\n",
       "      <td>4.000000</td>\n",
       "      <td>76.459948</td>\n",
       "      <td>a</td>\n",
       "      <td>1.0</td>\n",
       "      <td>0.0</td>\n",
       "      <td>normal</td>\n",
       "      <td>normal</td>\n",
       "      <td>notpresent</td>\n",
       "      <td>notpresent</td>\n",
       "      <td>99.000000</td>\n",
       "      <td>...</td>\n",
       "      <td>34.000000</td>\n",
       "      <td>8408.191126</td>\n",
       "      <td>4.705597</td>\n",
       "      <td>no</td>\n",
       "      <td>no</td>\n",
       "      <td>no</td>\n",
       "      <td>yes</td>\n",
       "      <td>poor</td>\n",
       "      <td>no</td>\n",
       "      <td>yes</td>\n",
       "    </tr>\n",
       "    <tr>\n",
       "      <th>3</th>\n",
       "      <td>5.000000</td>\n",
       "      <td>76.459948</td>\n",
       "      <td>d</td>\n",
       "      <td>1.0</td>\n",
       "      <td>0.0</td>\n",
       "      <td>normal</td>\n",
       "      <td>normal</td>\n",
       "      <td>notpresent</td>\n",
       "      <td>notpresent</td>\n",
       "      <td>148.112676</td>\n",
       "      <td>...</td>\n",
       "      <td>38.868902</td>\n",
       "      <td>8408.191126</td>\n",
       "      <td>4.705597</td>\n",
       "      <td>no</td>\n",
       "      <td>no</td>\n",
       "      <td>no</td>\n",
       "      <td>yes</td>\n",
       "      <td>poor</td>\n",
       "      <td>yes</td>\n",
       "      <td>yes</td>\n",
       "    </tr>\n",
       "    <tr>\n",
       "      <th>4</th>\n",
       "      <td>5.000000</td>\n",
       "      <td>50.000000</td>\n",
       "      <td>c</td>\n",
       "      <td>0.0</td>\n",
       "      <td>0.0</td>\n",
       "      <td>normal</td>\n",
       "      <td>normal</td>\n",
       "      <td>notpresent</td>\n",
       "      <td>notpresent</td>\n",
       "      <td>148.112676</td>\n",
       "      <td>...</td>\n",
       "      <td>36.000000</td>\n",
       "      <td>12400.000000</td>\n",
       "      <td>4.705597</td>\n",
       "      <td>no</td>\n",
       "      <td>no</td>\n",
       "      <td>no</td>\n",
       "      <td>yes</td>\n",
       "      <td>poor</td>\n",
       "      <td>no</td>\n",
       "      <td>yes</td>\n",
       "    </tr>\n",
       "    <tr>\n",
       "      <th>...</th>\n",
       "      <td>...</td>\n",
       "      <td>...</td>\n",
       "      <td>...</td>\n",
       "      <td>...</td>\n",
       "      <td>...</td>\n",
       "      <td>...</td>\n",
       "      <td>...</td>\n",
       "      <td>...</td>\n",
       "      <td>...</td>\n",
       "      <td>...</td>\n",
       "      <td>...</td>\n",
       "      <td>...</td>\n",
       "      <td>...</td>\n",
       "      <td>...</td>\n",
       "      <td>...</td>\n",
       "      <td>...</td>\n",
       "      <td>...</td>\n",
       "      <td>...</td>\n",
       "      <td>...</td>\n",
       "      <td>...</td>\n",
       "      <td>...</td>\n",
       "    </tr>\n",
       "    <tr>\n",
       "      <th>394</th>\n",
       "      <td>51.492308</td>\n",
       "      <td>70.000000</td>\n",
       "      <td>a</td>\n",
       "      <td>0.0</td>\n",
       "      <td>0.0</td>\n",
       "      <td>normal</td>\n",
       "      <td>normal</td>\n",
       "      <td>notpresent</td>\n",
       "      <td>notpresent</td>\n",
       "      <td>219.000000</td>\n",
       "      <td>...</td>\n",
       "      <td>37.000000</td>\n",
       "      <td>9800.000000</td>\n",
       "      <td>4.400000</td>\n",
       "      <td>no</td>\n",
       "      <td>no</td>\n",
       "      <td>no</td>\n",
       "      <td>yes</td>\n",
       "      <td>poor</td>\n",
       "      <td>no</td>\n",
       "      <td>yes</td>\n",
       "    </tr>\n",
       "    <tr>\n",
       "      <th>395</th>\n",
       "      <td>51.492308</td>\n",
       "      <td>70.000000</td>\n",
       "      <td>c</td>\n",
       "      <td>0.0</td>\n",
       "      <td>2.0</td>\n",
       "      <td>normal</td>\n",
       "      <td>normal</td>\n",
       "      <td>notpresent</td>\n",
       "      <td>notpresent</td>\n",
       "      <td>220.000000</td>\n",
       "      <td>...</td>\n",
       "      <td>27.000000</td>\n",
       "      <td>8408.191126</td>\n",
       "      <td>4.705597</td>\n",
       "      <td>yes</td>\n",
       "      <td>yes</td>\n",
       "      <td>no</td>\n",
       "      <td>yes</td>\n",
       "      <td>poor</td>\n",
       "      <td>yes</td>\n",
       "      <td>yes</td>\n",
       "    </tr>\n",
       "    <tr>\n",
       "      <th>396</th>\n",
       "      <td>51.492308</td>\n",
       "      <td>70.000000</td>\n",
       "      <td>c</td>\n",
       "      <td>3.0</td>\n",
       "      <td>0.0</td>\n",
       "      <td>normal</td>\n",
       "      <td>normal</td>\n",
       "      <td>notpresent</td>\n",
       "      <td>notpresent</td>\n",
       "      <td>110.000000</td>\n",
       "      <td>...</td>\n",
       "      <td>26.000000</td>\n",
       "      <td>9200.000000</td>\n",
       "      <td>3.400000</td>\n",
       "      <td>yes</td>\n",
       "      <td>yes</td>\n",
       "      <td>no</td>\n",
       "      <td>poor</td>\n",
       "      <td>poor</td>\n",
       "      <td>no</td>\n",
       "      <td>yes</td>\n",
       "    </tr>\n",
       "    <tr>\n",
       "      <th>397</th>\n",
       "      <td>51.492308</td>\n",
       "      <td>90.000000</td>\n",
       "      <td>a</td>\n",
       "      <td>0.0</td>\n",
       "      <td>0.0</td>\n",
       "      <td>normal</td>\n",
       "      <td>normal</td>\n",
       "      <td>notpresent</td>\n",
       "      <td>notpresent</td>\n",
       "      <td>207.000000</td>\n",
       "      <td>...</td>\n",
       "      <td>38.868902</td>\n",
       "      <td>8408.191126</td>\n",
       "      <td>4.705597</td>\n",
       "      <td>yes</td>\n",
       "      <td>yes</td>\n",
       "      <td>no</td>\n",
       "      <td>yes</td>\n",
       "      <td>poor</td>\n",
       "      <td>yes</td>\n",
       "      <td>yes</td>\n",
       "    </tr>\n",
       "    <tr>\n",
       "      <th>398</th>\n",
       "      <td>51.492308</td>\n",
       "      <td>80.000000</td>\n",
       "      <td>a</td>\n",
       "      <td>0.0</td>\n",
       "      <td>0.0</td>\n",
       "      <td>normal</td>\n",
       "      <td>normal</td>\n",
       "      <td>notpresent</td>\n",
       "      <td>notpresent</td>\n",
       "      <td>100.000000</td>\n",
       "      <td>...</td>\n",
       "      <td>53.000000</td>\n",
       "      <td>8500.000000</td>\n",
       "      <td>4.900000</td>\n",
       "      <td>no</td>\n",
       "      <td>no</td>\n",
       "      <td>no</td>\n",
       "      <td>yes</td>\n",
       "      <td>poor</td>\n",
       "      <td>no</td>\n",
       "      <td>no</td>\n",
       "    </tr>\n",
       "  </tbody>\n",
       "</table>\n",
       "<p>399 rows × 25 columns</p>\n",
       "</div>"
      ],
      "text/plain": [
       "           age         bp sg   al   su     rbc        pc         pcc  \\\n",
       "0     2.000000  76.459948  c  3.0  0.0  normal  abnormal  notpresent   \n",
       "1     3.000000  76.459948  c  2.0  0.0  normal    normal  notpresent   \n",
       "2     4.000000  76.459948  a  1.0  0.0  normal    normal  notpresent   \n",
       "3     5.000000  76.459948  d  1.0  0.0  normal    normal  notpresent   \n",
       "4     5.000000  50.000000  c  0.0  0.0  normal    normal  notpresent   \n",
       "..         ...        ... ..  ...  ...     ...       ...         ...   \n",
       "394  51.492308  70.000000  a  0.0  0.0  normal    normal  notpresent   \n",
       "395  51.492308  70.000000  c  0.0  2.0  normal    normal  notpresent   \n",
       "396  51.492308  70.000000  c  3.0  0.0  normal    normal  notpresent   \n",
       "397  51.492308  90.000000  a  0.0  0.0  normal    normal  notpresent   \n",
       "398  51.492308  80.000000  a  0.0  0.0  normal    normal  notpresent   \n",
       "\n",
       "             ba         bgr  ...        pcv            wc        rc  htn   dm  \\\n",
       "0    notpresent  148.112676  ...  38.868902   8408.191126  4.705597   no   no   \n",
       "1    notpresent  148.112676  ...  34.000000  12300.000000  4.705597   no   no   \n",
       "2    notpresent   99.000000  ...  34.000000   8408.191126  4.705597   no   no   \n",
       "3    notpresent  148.112676  ...  38.868902   8408.191126  4.705597   no   no   \n",
       "4    notpresent  148.112676  ...  36.000000  12400.000000  4.705597   no   no   \n",
       "..          ...         ...  ...        ...           ...       ...  ...  ...   \n",
       "394  notpresent  219.000000  ...  37.000000   9800.000000  4.400000   no   no   \n",
       "395  notpresent  220.000000  ...  27.000000   8408.191126  4.705597  yes  yes   \n",
       "396  notpresent  110.000000  ...  26.000000   9200.000000  3.400000  yes  yes   \n",
       "397  notpresent  207.000000  ...  38.868902   8408.191126  4.705597  yes  yes   \n",
       "398  notpresent  100.000000  ...  53.000000   8500.000000  4.900000   no   no   \n",
       "\n",
       "     cad  appet    pe  ane classification  \n",
       "0     no    yes   yes   no            yes  \n",
       "1     no    yes  poor   no            yes  \n",
       "2     no    yes  poor   no            yes  \n",
       "3     no    yes  poor  yes            yes  \n",
       "4     no    yes  poor   no            yes  \n",
       "..   ...    ...   ...  ...            ...  \n",
       "394   no    yes  poor   no            yes  \n",
       "395   no    yes  poor  yes            yes  \n",
       "396   no   poor  poor   no            yes  \n",
       "397   no    yes  poor  yes            yes  \n",
       "398   no    yes  poor   no             no  \n",
       "\n",
       "[399 rows x 25 columns]"
      ]
     },
     "execution_count": 5,
     "metadata": {},
     "output_type": "execute_result"
    }
   ],
   "source": [
    "dataset"
   ]
  },
  {
   "cell_type": "code",
   "execution_count": 7,
   "id": "451606ef-3f5b-41ec-9d19-ea7f6debff05",
   "metadata": {},
   "outputs": [
    {
     "name": "stdout",
     "output_type": "stream",
     "text": [
      "Features (X):\n",
      "[[2.0 76.45994832041343 'c' 3.0 0.0 'normal' 'abnormal' 'notpresent'\n",
      "  'notpresent' 148.11267605633802 57.48210526315791 3.0773560209424087\n",
      "  137.52875399361022 4.62724358974359 12.518155619596538\n",
      "  38.86890243902439 8408.191126279864 4.705597014925374 'no' 'no' 'no'\n",
      "  'yes' 'yes' 'no']\n",
      " [3.0 76.45994832041343 'c' 2.0 0.0 'normal' 'normal' 'notpresent'\n",
      "  'notpresent' 148.11267605633802 22.0 0.7 137.52875399361022\n",
      "  4.62724358974359 10.7 34.0 12300.0 4.705597014925374 'no' 'no' 'no'\n",
      "  'yes' 'poor' 'no']\n",
      " [4.0 76.45994832041343 'a' 1.0 0.0 'normal' 'normal' 'notpresent'\n",
      "  'notpresent' 99.0 23.0 0.6 138.0 4.4 12.0 34.0 8408.191126279864\n",
      "  4.705597014925374 'no' 'no' 'no' 'yes' 'poor' 'no']\n",
      " [5.0 76.45994832041343 'd' 1.0 0.0 'normal' 'normal' 'notpresent'\n",
      "  'notpresent' 148.11267605633802 16.0 0.7 138.0 3.2 8.1\n",
      "  38.86890243902439 8408.191126279864 4.705597014925374 'no' 'no' 'no'\n",
      "  'yes' 'poor' 'yes']\n",
      " [5.0 50.0 'c' 0.0 0.0 'normal' 'normal' 'notpresent' 'notpresent'\n",
      "  148.11267605633802 25.0 0.6 137.52875399361022 4.62724358974359 11.8\n",
      "  36.0 12400.0 4.705597014925374 'no' 'no' 'no' 'yes' 'poor' 'no']]\n",
      "\n",
      "Target (y):\n",
      "['yes' 'yes' 'yes' 'yes' 'yes']\n"
     ]
    }
   ],
   "source": [
    "# Importing necessary libraries\n",
    "import pandas as pd\n",
    "\n",
    "# Load the dataset\n",
    "dataset = pd.read_csv('prep.csv')\n",
    "\n",
    "# Separate the independent variables (features) and dependent variable (target)\n",
    "# Assuming the last column is the target variable\n",
    "X = dataset.iloc[:, :-1].values  # All rows and all columns except the last\n",
    "y = dataset.iloc[:, -1].values   # All rows and the last column\n",
    "\n",
    "# You can print the first few rows to verify\n",
    "print(\"Features (X):\")\n",
    "print(X[:5])  # Display first 5 rows of features\n",
    "\n",
    "print(\"\\nTarget (y):\")\n",
    "print(y[:5])  # Display first 5 rows of target\n"
   ]
  },
  {
   "cell_type": "markdown",
   "id": "bfd5ce37-1bac-4266-9170-36798a7ff4e0",
   "metadata": {},
   "source": [
    "This output indicates that the dataset `prep.csv` has been successfully loaded, and the features (`X`) and target variable (`y`) have been extracted correctly. Below is the detailed explanation of the output:\n"
   ]
  },
  {
   "cell_type": "markdown",
   "id": "868759eb-ce99-4fe5-b6e5-8273cd275d74",
   "metadata": {},
   "source": [
    "**Output: Features (X)**\n",
    "The first 5 rows of the features (`X`) are displayed as:\n"
   ]
  },
  {
   "cell_type": "markdown",
   "id": "df20c4bf-917a-48e7-a661-4b02d0933690",
   "metadata": {},
   "source": [
    "**Explanation:**\n",
    "\n",
    "- `X` contains the feature columns from the dataset (all columns except the last one).\n",
    "- Each row corresponds to a record in the dataset, and each column represents a feature.\n",
    "- Some columns are numeric (e.g., 76.45994832041343), and others are categorical (e.g., 'normal', 'yes').\n"
   ]
  },
  {
   "cell_type": "markdown",
   "id": "35fc97c2-533a-4c1a-8ee4-292ec0863255",
   "metadata": {},
   "source": [
    "**Output: Target (y)**\n",
    "The first 5 rows of the target variable (`y`) are displayed as:\n"
   ]
  },
  {
   "cell_type": "markdown",
   "id": "0cfed524-ffe3-4b36-96a0-9add357eeee9",
   "metadata": {},
   "source": [
    "```python\n",
    "['yes' 'yes' 'yes' 'yes' 'yes']\n"
   ]
  },
  {
   "cell_type": "markdown",
   "id": "edcaf58b-fe58-45dd-8ca9-b63467fd5c75",
   "metadata": {},
   "source": [
    "**Explanation:**\n",
    "\n",
    "- `y` contains the target column from the dataset (the last column).\n",
    "- Each value in `y` corresponds to the target label of the respective row in `X`.\n",
    "- In this case, the target labels are categorical ('yes').\n"
   ]
  },
  {
   "cell_type": "markdown",
   "id": "edb383c1-b79e-4b89-b2fb-8a03d9cac6d5",
   "metadata": {},
   "source": [
    "## Verification of Dataset Structure\n",
    "\n",
    "If the dataset looks correct and matches your expectations:\n",
    "\n",
    "- **X** contains all independent variables (features).\n",
    "- **y** contains the dependent variable (target).\n",
    "\n",
    "You can now proceed with data preprocessing (e.g., handling categorical features, scaling) and applying machine learning techniques (e.g., feature selection, classification, or regression).\n"
   ]
  },
  {
   "cell_type": "code",
   "execution_count": 8,
   "id": "0c31c294-a097-4cd5-87aa-d765293f0af5",
   "metadata": {},
   "outputs": [],
   "source": [
    "\n",
    "# Splitting the dataset into the Training set and Test set\n",
    "from sklearn.model_selection import train_test_split\n",
    "X_train, X_test, y_train, y_test = train_test_split(X, y, test_size = 0.2, random_state = 0)"
   ]
  },
  {
   "cell_type": "code",
   "execution_count": 9,
   "id": "892e83a0-9f79-418e-9a25-d5a1ff9ada83",
   "metadata": {},
   "outputs": [
    {
     "ename": "ValueError",
     "evalue": "could not convert string to float: 'd'",
     "output_type": "error",
     "traceback": [
      "\u001b[1;31m---------------------------------------------------------------------------\u001b[0m",
      "\u001b[1;31mValueError\u001b[0m                                Traceback (most recent call last)",
      "Cell \u001b[1;32mIn[9], line 4\u001b[0m\n\u001b[0;32m      2\u001b[0m \u001b[38;5;28;01mfrom\u001b[39;00m \u001b[38;5;21;01msklearn\u001b[39;00m\u001b[38;5;21;01m.\u001b[39;00m\u001b[38;5;21;01mpreprocessing\u001b[39;00m \u001b[38;5;28;01mimport\u001b[39;00m StandardScaler\n\u001b[0;32m      3\u001b[0m sc \u001b[38;5;241m=\u001b[39m StandardScaler()\n\u001b[1;32m----> 4\u001b[0m X_train \u001b[38;5;241m=\u001b[39m \u001b[43msc\u001b[49m\u001b[38;5;241;43m.\u001b[39;49m\u001b[43mfit_transform\u001b[49m\u001b[43m(\u001b[49m\u001b[43mX_train\u001b[49m\u001b[43m)\u001b[49m\n\u001b[0;32m      5\u001b[0m X_test \u001b[38;5;241m=\u001b[39m sc\u001b[38;5;241m.\u001b[39mtransform(X_test)\n",
      "File \u001b[1;32m~\\anaconda3\\envs\\aiml\\lib\\site-packages\\sklearn\\utils\\_set_output.py:316\u001b[0m, in \u001b[0;36m_wrap_method_output.<locals>.wrapped\u001b[1;34m(self, X, *args, **kwargs)\u001b[0m\n\u001b[0;32m    314\u001b[0m \u001b[38;5;129m@wraps\u001b[39m(f)\n\u001b[0;32m    315\u001b[0m \u001b[38;5;28;01mdef\u001b[39;00m \u001b[38;5;21mwrapped\u001b[39m(\u001b[38;5;28mself\u001b[39m, X, \u001b[38;5;241m*\u001b[39margs, \u001b[38;5;241m*\u001b[39m\u001b[38;5;241m*\u001b[39mkwargs):\n\u001b[1;32m--> 316\u001b[0m     data_to_wrap \u001b[38;5;241m=\u001b[39m f(\u001b[38;5;28mself\u001b[39m, X, \u001b[38;5;241m*\u001b[39margs, \u001b[38;5;241m*\u001b[39m\u001b[38;5;241m*\u001b[39mkwargs)\n\u001b[0;32m    317\u001b[0m     \u001b[38;5;28;01mif\u001b[39;00m \u001b[38;5;28misinstance\u001b[39m(data_to_wrap, \u001b[38;5;28mtuple\u001b[39m):\n\u001b[0;32m    318\u001b[0m         \u001b[38;5;66;03m# only wrap the first output for cross decomposition\u001b[39;00m\n\u001b[0;32m    319\u001b[0m         return_tuple \u001b[38;5;241m=\u001b[39m (\n\u001b[0;32m    320\u001b[0m             _wrap_data_with_container(method, data_to_wrap[\u001b[38;5;241m0\u001b[39m], X, \u001b[38;5;28mself\u001b[39m),\n\u001b[0;32m    321\u001b[0m             \u001b[38;5;241m*\u001b[39mdata_to_wrap[\u001b[38;5;241m1\u001b[39m:],\n\u001b[0;32m    322\u001b[0m         )\n",
      "File \u001b[1;32m~\\anaconda3\\envs\\aiml\\lib\\site-packages\\sklearn\\base.py:1098\u001b[0m, in \u001b[0;36mTransformerMixin.fit_transform\u001b[1;34m(self, X, y, **fit_params)\u001b[0m\n\u001b[0;32m   1083\u001b[0m         warnings\u001b[38;5;241m.\u001b[39mwarn(\n\u001b[0;32m   1084\u001b[0m             (\n\u001b[0;32m   1085\u001b[0m                 \u001b[38;5;124mf\u001b[39m\u001b[38;5;124m\"\u001b[39m\u001b[38;5;124mThis object (\u001b[39m\u001b[38;5;132;01m{\u001b[39;00m\u001b[38;5;28mself\u001b[39m\u001b[38;5;241m.\u001b[39m\u001b[38;5;18m__class__\u001b[39m\u001b[38;5;241m.\u001b[39m\u001b[38;5;18m__name__\u001b[39m\u001b[38;5;132;01m}\u001b[39;00m\u001b[38;5;124m) has a `transform`\u001b[39m\u001b[38;5;124m\"\u001b[39m\n\u001b[1;32m   (...)\u001b[0m\n\u001b[0;32m   1093\u001b[0m             \u001b[38;5;167;01mUserWarning\u001b[39;00m,\n\u001b[0;32m   1094\u001b[0m         )\n\u001b[0;32m   1096\u001b[0m \u001b[38;5;28;01mif\u001b[39;00m y \u001b[38;5;129;01mis\u001b[39;00m \u001b[38;5;28;01mNone\u001b[39;00m:\n\u001b[0;32m   1097\u001b[0m     \u001b[38;5;66;03m# fit method of arity 1 (unsupervised transformation)\u001b[39;00m\n\u001b[1;32m-> 1098\u001b[0m     \u001b[38;5;28;01mreturn\u001b[39;00m \u001b[38;5;28mself\u001b[39m\u001b[38;5;241m.\u001b[39mfit(X, \u001b[38;5;241m*\u001b[39m\u001b[38;5;241m*\u001b[39mfit_params)\u001b[38;5;241m.\u001b[39mtransform(X)\n\u001b[0;32m   1099\u001b[0m \u001b[38;5;28;01melse\u001b[39;00m:\n\u001b[0;32m   1100\u001b[0m     \u001b[38;5;66;03m# fit method of arity 2 (supervised transformation)\u001b[39;00m\n\u001b[0;32m   1101\u001b[0m     \u001b[38;5;28;01mreturn\u001b[39;00m \u001b[38;5;28mself\u001b[39m\u001b[38;5;241m.\u001b[39mfit(X, y, \u001b[38;5;241m*\u001b[39m\u001b[38;5;241m*\u001b[39mfit_params)\u001b[38;5;241m.\u001b[39mtransform(X)\n",
      "File \u001b[1;32m~\\anaconda3\\envs\\aiml\\lib\\site-packages\\sklearn\\preprocessing\\_data.py:878\u001b[0m, in \u001b[0;36mStandardScaler.fit\u001b[1;34m(self, X, y, sample_weight)\u001b[0m\n\u001b[0;32m    876\u001b[0m \u001b[38;5;66;03m# Reset internal state before fitting\u001b[39;00m\n\u001b[0;32m    877\u001b[0m \u001b[38;5;28mself\u001b[39m\u001b[38;5;241m.\u001b[39m_reset()\n\u001b[1;32m--> 878\u001b[0m \u001b[38;5;28;01mreturn\u001b[39;00m \u001b[38;5;28;43mself\u001b[39;49m\u001b[38;5;241;43m.\u001b[39;49m\u001b[43mpartial_fit\u001b[49m\u001b[43m(\u001b[49m\u001b[43mX\u001b[49m\u001b[43m,\u001b[49m\u001b[43m \u001b[49m\u001b[43my\u001b[49m\u001b[43m,\u001b[49m\u001b[43m \u001b[49m\u001b[43msample_weight\u001b[49m\u001b[43m)\u001b[49m\n",
      "File \u001b[1;32m~\\anaconda3\\envs\\aiml\\lib\\site-packages\\sklearn\\base.py:1473\u001b[0m, in \u001b[0;36m_fit_context.<locals>.decorator.<locals>.wrapper\u001b[1;34m(estimator, *args, **kwargs)\u001b[0m\n\u001b[0;32m   1466\u001b[0m     estimator\u001b[38;5;241m.\u001b[39m_validate_params()\n\u001b[0;32m   1468\u001b[0m \u001b[38;5;28;01mwith\u001b[39;00m config_context(\n\u001b[0;32m   1469\u001b[0m     skip_parameter_validation\u001b[38;5;241m=\u001b[39m(\n\u001b[0;32m   1470\u001b[0m         prefer_skip_nested_validation \u001b[38;5;129;01mor\u001b[39;00m global_skip_validation\n\u001b[0;32m   1471\u001b[0m     )\n\u001b[0;32m   1472\u001b[0m ):\n\u001b[1;32m-> 1473\u001b[0m     \u001b[38;5;28;01mreturn\u001b[39;00m fit_method(estimator, \u001b[38;5;241m*\u001b[39margs, \u001b[38;5;241m*\u001b[39m\u001b[38;5;241m*\u001b[39mkwargs)\n",
      "File \u001b[1;32m~\\anaconda3\\envs\\aiml\\lib\\site-packages\\sklearn\\preprocessing\\_data.py:914\u001b[0m, in \u001b[0;36mStandardScaler.partial_fit\u001b[1;34m(self, X, y, sample_weight)\u001b[0m\n\u001b[0;32m    882\u001b[0m \u001b[38;5;250m\u001b[39m\u001b[38;5;124;03m\"\"\"Online computation of mean and std on X for later scaling.\u001b[39;00m\n\u001b[0;32m    883\u001b[0m \n\u001b[0;32m    884\u001b[0m \u001b[38;5;124;03mAll of X is processed as a single batch. This is intended for cases\u001b[39;00m\n\u001b[1;32m   (...)\u001b[0m\n\u001b[0;32m    911\u001b[0m \u001b[38;5;124;03m    Fitted scaler.\u001b[39;00m\n\u001b[0;32m    912\u001b[0m \u001b[38;5;124;03m\"\"\"\u001b[39;00m\n\u001b[0;32m    913\u001b[0m first_call \u001b[38;5;241m=\u001b[39m \u001b[38;5;129;01mnot\u001b[39;00m \u001b[38;5;28mhasattr\u001b[39m(\u001b[38;5;28mself\u001b[39m, \u001b[38;5;124m\"\u001b[39m\u001b[38;5;124mn_samples_seen_\u001b[39m\u001b[38;5;124m\"\u001b[39m)\n\u001b[1;32m--> 914\u001b[0m X \u001b[38;5;241m=\u001b[39m \u001b[38;5;28;43mself\u001b[39;49m\u001b[38;5;241;43m.\u001b[39;49m\u001b[43m_validate_data\u001b[49m\u001b[43m(\u001b[49m\n\u001b[0;32m    915\u001b[0m \u001b[43m    \u001b[49m\u001b[43mX\u001b[49m\u001b[43m,\u001b[49m\n\u001b[0;32m    916\u001b[0m \u001b[43m    \u001b[49m\u001b[43maccept_sparse\u001b[49m\u001b[38;5;241;43m=\u001b[39;49m\u001b[43m(\u001b[49m\u001b[38;5;124;43m\"\u001b[39;49m\u001b[38;5;124;43mcsr\u001b[39;49m\u001b[38;5;124;43m\"\u001b[39;49m\u001b[43m,\u001b[49m\u001b[43m \u001b[49m\u001b[38;5;124;43m\"\u001b[39;49m\u001b[38;5;124;43mcsc\u001b[39;49m\u001b[38;5;124;43m\"\u001b[39;49m\u001b[43m)\u001b[49m\u001b[43m,\u001b[49m\n\u001b[0;32m    917\u001b[0m \u001b[43m    \u001b[49m\u001b[43mdtype\u001b[49m\u001b[38;5;241;43m=\u001b[39;49m\u001b[43mFLOAT_DTYPES\u001b[49m\u001b[43m,\u001b[49m\n\u001b[0;32m    918\u001b[0m \u001b[43m    \u001b[49m\u001b[43mforce_all_finite\u001b[49m\u001b[38;5;241;43m=\u001b[39;49m\u001b[38;5;124;43m\"\u001b[39;49m\u001b[38;5;124;43mallow-nan\u001b[39;49m\u001b[38;5;124;43m\"\u001b[39;49m\u001b[43m,\u001b[49m\n\u001b[0;32m    919\u001b[0m \u001b[43m    \u001b[49m\u001b[43mreset\u001b[49m\u001b[38;5;241;43m=\u001b[39;49m\u001b[43mfirst_call\u001b[49m\u001b[43m,\u001b[49m\n\u001b[0;32m    920\u001b[0m \u001b[43m\u001b[49m\u001b[43m)\u001b[49m\n\u001b[0;32m    921\u001b[0m n_features \u001b[38;5;241m=\u001b[39m X\u001b[38;5;241m.\u001b[39mshape[\u001b[38;5;241m1\u001b[39m]\n\u001b[0;32m    923\u001b[0m \u001b[38;5;28;01mif\u001b[39;00m sample_weight \u001b[38;5;129;01mis\u001b[39;00m \u001b[38;5;129;01mnot\u001b[39;00m \u001b[38;5;28;01mNone\u001b[39;00m:\n",
      "File \u001b[1;32m~\\anaconda3\\envs\\aiml\\lib\\site-packages\\sklearn\\base.py:633\u001b[0m, in \u001b[0;36mBaseEstimator._validate_data\u001b[1;34m(self, X, y, reset, validate_separately, cast_to_ndarray, **check_params)\u001b[0m\n\u001b[0;32m    631\u001b[0m         out \u001b[38;5;241m=\u001b[39m X, y\n\u001b[0;32m    632\u001b[0m \u001b[38;5;28;01melif\u001b[39;00m \u001b[38;5;129;01mnot\u001b[39;00m no_val_X \u001b[38;5;129;01mand\u001b[39;00m no_val_y:\n\u001b[1;32m--> 633\u001b[0m     out \u001b[38;5;241m=\u001b[39m check_array(X, input_name\u001b[38;5;241m=\u001b[39m\u001b[38;5;124m\"\u001b[39m\u001b[38;5;124mX\u001b[39m\u001b[38;5;124m\"\u001b[39m, \u001b[38;5;241m*\u001b[39m\u001b[38;5;241m*\u001b[39mcheck_params)\n\u001b[0;32m    634\u001b[0m \u001b[38;5;28;01melif\u001b[39;00m no_val_X \u001b[38;5;129;01mand\u001b[39;00m \u001b[38;5;129;01mnot\u001b[39;00m no_val_y:\n\u001b[0;32m    635\u001b[0m     out \u001b[38;5;241m=\u001b[39m _check_y(y, \u001b[38;5;241m*\u001b[39m\u001b[38;5;241m*\u001b[39mcheck_params)\n",
      "File \u001b[1;32m~\\anaconda3\\envs\\aiml\\lib\\site-packages\\sklearn\\utils\\validation.py:1012\u001b[0m, in \u001b[0;36mcheck_array\u001b[1;34m(array, accept_sparse, accept_large_sparse, dtype, order, copy, force_writeable, force_all_finite, ensure_2d, allow_nd, ensure_min_samples, ensure_min_features, estimator, input_name)\u001b[0m\n\u001b[0;32m   1010\u001b[0m         array \u001b[38;5;241m=\u001b[39m xp\u001b[38;5;241m.\u001b[39mastype(array, dtype, copy\u001b[38;5;241m=\u001b[39m\u001b[38;5;28;01mFalse\u001b[39;00m)\n\u001b[0;32m   1011\u001b[0m     \u001b[38;5;28;01melse\u001b[39;00m:\n\u001b[1;32m-> 1012\u001b[0m         array \u001b[38;5;241m=\u001b[39m \u001b[43m_asarray_with_order\u001b[49m\u001b[43m(\u001b[49m\u001b[43marray\u001b[49m\u001b[43m,\u001b[49m\u001b[43m \u001b[49m\u001b[43morder\u001b[49m\u001b[38;5;241;43m=\u001b[39;49m\u001b[43morder\u001b[49m\u001b[43m,\u001b[49m\u001b[43m \u001b[49m\u001b[43mdtype\u001b[49m\u001b[38;5;241;43m=\u001b[39;49m\u001b[43mdtype\u001b[49m\u001b[43m,\u001b[49m\u001b[43m \u001b[49m\u001b[43mxp\u001b[49m\u001b[38;5;241;43m=\u001b[39;49m\u001b[43mxp\u001b[49m\u001b[43m)\u001b[49m\n\u001b[0;32m   1013\u001b[0m \u001b[38;5;28;01mexcept\u001b[39;00m ComplexWarning \u001b[38;5;28;01mas\u001b[39;00m complex_warning:\n\u001b[0;32m   1014\u001b[0m     \u001b[38;5;28;01mraise\u001b[39;00m \u001b[38;5;167;01mValueError\u001b[39;00m(\n\u001b[0;32m   1015\u001b[0m         \u001b[38;5;124m\"\u001b[39m\u001b[38;5;124mComplex data not supported\u001b[39m\u001b[38;5;130;01m\\n\u001b[39;00m\u001b[38;5;132;01m{}\u001b[39;00m\u001b[38;5;130;01m\\n\u001b[39;00m\u001b[38;5;124m\"\u001b[39m\u001b[38;5;241m.\u001b[39mformat(array)\n\u001b[0;32m   1016\u001b[0m     ) \u001b[38;5;28;01mfrom\u001b[39;00m \u001b[38;5;21;01mcomplex_warning\u001b[39;00m\n",
      "File \u001b[1;32m~\\anaconda3\\envs\\aiml\\lib\\site-packages\\sklearn\\utils\\_array_api.py:745\u001b[0m, in \u001b[0;36m_asarray_with_order\u001b[1;34m(array, dtype, order, copy, xp, device)\u001b[0m\n\u001b[0;32m    743\u001b[0m     array \u001b[38;5;241m=\u001b[39m numpy\u001b[38;5;241m.\u001b[39marray(array, order\u001b[38;5;241m=\u001b[39morder, dtype\u001b[38;5;241m=\u001b[39mdtype)\n\u001b[0;32m    744\u001b[0m \u001b[38;5;28;01melse\u001b[39;00m:\n\u001b[1;32m--> 745\u001b[0m     array \u001b[38;5;241m=\u001b[39m \u001b[43mnumpy\u001b[49m\u001b[38;5;241;43m.\u001b[39;49m\u001b[43masarray\u001b[49m\u001b[43m(\u001b[49m\u001b[43marray\u001b[49m\u001b[43m,\u001b[49m\u001b[43m \u001b[49m\u001b[43morder\u001b[49m\u001b[38;5;241;43m=\u001b[39;49m\u001b[43morder\u001b[49m\u001b[43m,\u001b[49m\u001b[43m \u001b[49m\u001b[43mdtype\u001b[49m\u001b[38;5;241;43m=\u001b[39;49m\u001b[43mdtype\u001b[49m\u001b[43m)\u001b[49m\n\u001b[0;32m    747\u001b[0m \u001b[38;5;66;03m# At this point array is a NumPy ndarray. We convert it to an array\u001b[39;00m\n\u001b[0;32m    748\u001b[0m \u001b[38;5;66;03m# container that is consistent with the input's namespace.\u001b[39;00m\n\u001b[0;32m    749\u001b[0m \u001b[38;5;28;01mreturn\u001b[39;00m xp\u001b[38;5;241m.\u001b[39masarray(array)\n",
      "\u001b[1;31mValueError\u001b[0m: could not convert string to float: 'd'"
     ]
    }
   ],
   "source": [
    "# Feature Scaling\n",
    "from sklearn.preprocessing import StandardScaler\n",
    "sc = StandardScaler()\n",
    "X_train = sc.fit_transform(X_train)\n",
    "X_test = sc.transform(X_test)"
   ]
  },
  {
   "cell_type": "markdown",
   "id": "f6feebef-83d7-4fd0-8d07-32f0c0a7ac3c",
   "metadata": {},
   "source": [
    "## Can You Skip Scaling and Proceed to PCA Directly?\n",
    "\n",
    "No, scaling is essential before PCA because PCA is sensitive to the variance of features. Features with larger scales will dominate the principal components, leading to misleading results.\n",
    "\n",
    "### Conclusion\n",
    "\n",
    "You must handle categorical variables and scale the data before applying PCA. If you skip scaling, the PCA results will not reflect the true structure of the data. Address the error by preprocessing your categorical variables first.\n"
   ]
  },
  {
   "cell_type": "markdown",
   "id": "b5222e7e-82d9-4939-b63f-03c45ca7b98b",
   "metadata": {},
   "source": [
    "The error `ValueError: could not convert string to float: 'd'` occurs because the feature scaling step (`StandardScaler`) expects all input data to be numeric. However, your dataset (`prep.csv`) includes categorical variables like 'd', 'c', 'normal', etc., which need to be handled before applying scaling.\n",
    "\n",
    "**Here's how you can handle this issue and proceed:**\n"
   ]
  },
  {
   "cell_type": "markdown",
   "id": "642a2c0c-8a43-4101-9b7d-f90c6998ae6e",
   "metadata": {},
   "source": [
    "### Step 1: Handle Categorical Variables\n",
    "You must encode categorical variables into numeric representations before scaling or applying PCA. There are two common approaches:\n",
    "\n",
    "**Label Encoding:**\n",
    "- Convert each unique category into an integer.\n",
    "- Suitable for ordinal categorical data (e.g., levels like 'low', 'medium', 'high').\n"
   ]
  },
  {
   "cell_type": "code",
   "execution_count": 10,
   "id": "03612226-1d53-4287-b946-cd5c452cdd23",
   "metadata": {},
   "outputs": [
    {
     "ename": "NameError",
     "evalue": "name 'categorical_columns' is not defined",
     "output_type": "error",
     "traceback": [
      "\u001b[1;31m---------------------------------------------------------------------------\u001b[0m",
      "\u001b[1;31mNameError\u001b[0m                                 Traceback (most recent call last)",
      "Cell \u001b[1;32mIn[10], line 3\u001b[0m\n\u001b[0;32m      1\u001b[0m \u001b[38;5;28;01mfrom\u001b[39;00m \u001b[38;5;21;01msklearn\u001b[39;00m\u001b[38;5;21;01m.\u001b[39;00m\u001b[38;5;21;01mpreprocessing\u001b[39;00m \u001b[38;5;28;01mimport\u001b[39;00m LabelEncoder\n\u001b[0;32m      2\u001b[0m labelencoder \u001b[38;5;241m=\u001b[39m LabelEncoder()\n\u001b[1;32m----> 3\u001b[0m \u001b[38;5;28;01mfor\u001b[39;00m col \u001b[38;5;129;01min\u001b[39;00m \u001b[43mcategorical_columns\u001b[49m:  \u001b[38;5;66;03m# Replace `categorical_columns` with actual column indices/names\u001b[39;00m\n\u001b[0;32m      4\u001b[0m     dataset[col] \u001b[38;5;241m=\u001b[39m labelencoder\u001b[38;5;241m.\u001b[39mfit_transform(dataset[col])\n",
      "\u001b[1;31mNameError\u001b[0m: name 'categorical_columns' is not defined"
     ]
    }
   ],
   "source": [
    "from sklearn.preprocessing import LabelEncoder\n",
    "labelencoder = LabelEncoder()\n",
    "for col in categorical_columns:  # Replace `categorical_columns` with actual column indices/names\n",
    "    dataset[col] = labelencoder.fit_transform(dataset[col])\n"
   ]
  },
  {
   "cell_type": "markdown",
   "id": "f5d40cd1-65f6-4a45-bda4-b8a1343f5690",
   "metadata": {},
   "source": [
    "The error occurs because the variable `categorical_columns` is not defined in your code. You need to identify which columns in your dataset are categorical and assign their names or indices to `categorical_columns`.\n"
   ]
  },
  {
   "cell_type": "code",
   "execution_count": 11,
   "id": "1b8819db-97ff-487a-bf2d-d7e3232c5a7c",
   "metadata": {},
   "outputs": [
    {
     "name": "stdout",
     "output_type": "stream",
     "text": [
      "<class 'pandas.core.frame.DataFrame'>\n",
      "RangeIndex: 399 entries, 0 to 398\n",
      "Data columns (total 25 columns):\n",
      " #   Column          Non-Null Count  Dtype  \n",
      "---  ------          --------------  -----  \n",
      " 0   age             399 non-null    float64\n",
      " 1   bp              399 non-null    float64\n",
      " 2   sg              399 non-null    object \n",
      " 3   al              399 non-null    float64\n",
      " 4   su              399 non-null    float64\n",
      " 5   rbc             399 non-null    object \n",
      " 6   pc              399 non-null    object \n",
      " 7   pcc             399 non-null    object \n",
      " 8   ba              399 non-null    object \n",
      " 9   bgr             399 non-null    float64\n",
      " 10  bu              399 non-null    float64\n",
      " 11  sc              399 non-null    float64\n",
      " 12  sod             399 non-null    float64\n",
      " 13  pot             399 non-null    float64\n",
      " 14  hrmo            399 non-null    float64\n",
      " 15  pcv             399 non-null    float64\n",
      " 16  wc              399 non-null    float64\n",
      " 17  rc              399 non-null    float64\n",
      " 18  htn             399 non-null    object \n",
      " 19  dm              399 non-null    object \n",
      " 20  cad             399 non-null    object \n",
      " 21  appet           399 non-null    object \n",
      " 22  pe              399 non-null    object \n",
      " 23  ane             399 non-null    object \n",
      " 24  classification  399 non-null    object \n",
      "dtypes: float64(13), object(12)\n",
      "memory usage: 78.1+ KB\n",
      "None\n"
     ]
    }
   ],
   "source": [
    "# Step 1: Inspect the dataset\n",
    "\n",
    "print(dataset.info())\n"
   ]
  },
  {
   "cell_type": "code",
   "execution_count": 12,
   "id": "d6c5ca0f-b84f-445d-ad52-d8ca820ee63d",
   "metadata": {},
   "outputs": [
    {
     "name": "stdout",
     "output_type": "stream",
     "text": [
      "Categorical Columns: Index(['sg', 'rbc', 'pc', 'pcc', 'ba', 'htn', 'dm', 'cad', 'appet', 'pe',\n",
      "       'ane', 'classification'],\n",
      "      dtype='object')\n"
     ]
    }
   ],
   "source": [
    "# Step 2: Identify categorical columns\n",
    "\n",
    "categorical_columns = dataset.select_dtypes(include=['object', 'category']).columns\n",
    "print(\"Categorical Columns:\", categorical_columns)\n"
   ]
  },
  {
   "cell_type": "code",
   "execution_count": 14,
   "id": "fc50454a-9aec-4814-bee4-cf81753d91f2",
   "metadata": {},
   "outputs": [],
   "source": [
    "# Step 3: Apply Label Encoding: Once you have identified the categorical columns, you can loop through them and apply LabelEncoder:\n",
    "\n",
    "\n",
    "from sklearn.preprocessing import LabelEncoder\n",
    "labelencoder = LabelEncoder()\n",
    "for col in categorical_columns:\n",
    "    dataset[col] = labelencoder.fit_transform(dataset[col])"
   ]
  },
  {
   "cell_type": "code",
   "execution_count": 15,
   "id": "8548db16-cad3-4fdf-9079-2b2744794605",
   "metadata": {},
   "outputs": [
    {
     "name": "stdout",
     "output_type": "stream",
     "text": [
      "   age         bp  sg   al   su  rbc  pc  pcc  ba         bgr  ...        pcv  \\\n",
      "0  2.0  76.459948   2  3.0  0.0    1   0    0   0  148.112676  ...  38.868902   \n",
      "1  3.0  76.459948   2  2.0  0.0    1   1    0   0  148.112676  ...  34.000000   \n",
      "2  4.0  76.459948   0  1.0  0.0    1   1    0   0   99.000000  ...  34.000000   \n",
      "3  5.0  76.459948   3  1.0  0.0    1   1    0   0  148.112676  ...  38.868902   \n",
      "4  5.0  50.000000   2  0.0  0.0    1   1    0   0  148.112676  ...  36.000000   \n",
      "\n",
      "             wc        rc  htn  dm  cad  appet  pe  ane  classification  \n",
      "0   8408.191126  4.705597    0   0    0      1   1    0               1  \n",
      "1  12300.000000  4.705597    0   0    0      1   0    0               1  \n",
      "2   8408.191126  4.705597    0   0    0      1   0    0               1  \n",
      "3   8408.191126  4.705597    0   0    0      1   0    1               1  \n",
      "4  12400.000000  4.705597    0   0    0      1   0    0               1  \n",
      "\n",
      "[5 rows x 25 columns]\n"
     ]
    }
   ],
   "source": [
    "# Verify the transformed dataset\n",
    "print(dataset.head())"
   ]
  },
  {
   "cell_type": "markdown",
   "id": "ff7496e9-7d9e-4080-b237-1755bf4bf898",
   "metadata": {},
   "source": [
    "## When using PCA (Principal Component Analysis), the need for One-Hot Encoding depends on whether you have categorical features. PCA operates on numerical data, so if you have categorical features, you must encode them appropriately.\n",
    "\n",
    "### Key Steps:\n",
    "\n",
    "**Label Encoding:**\n",
    "- If you’ve already applied Label Encoding, the categorical features are now represented as integers.\n",
    "- However, these integers may imply an ordinal relationship, which is not ideal for PCA.\n",
    "\n",
    "**One-Hot Encoding for PCA:**\n",
    "- PCA is sensitive to numerical scales and relationships. Using One-Hot Encoding ensures that all categories are treated equally and avoids introducing unintended ordinal relationships.\n",
    "- One-Hot Encoding will expand the dataset by creating binary columns for each category.\n",
    "\n",
    "**Standard Scaling:**\n",
    "- After One-Hot Encoding, it’s essential to standardize the data (scale it) to ensure all features, including one-hot-encoded columns, contribute equally to PCA.\n"
   ]
  },
  {
   "cell_type": "markdown",
   "id": "f9bf82b8-f2ff-4026-903a-5756bb175aed",
   "metadata": {},
   "source": [
    "## Recommended Approach:\n",
    "\n",
    "### Step 1: One-Hot Encoding\n"
   ]
  },
  {
   "cell_type": "code",
   "execution_count": 16,
   "id": "26a5e66f-96ab-467a-9bde-a8237b065ec4",
   "metadata": {},
   "outputs": [
    {
     "name": "stdout",
     "output_type": "stream",
     "text": [
      "Dataset after One-Hot Encoding:\n",
      "   age         bp   al   su         bgr         bu        sc         sod  \\\n",
      "0  2.0  76.459948  3.0  0.0  148.112676  57.482105  3.077356  137.528754   \n",
      "1  3.0  76.459948  2.0  0.0  148.112676  22.000000  0.700000  137.528754   \n",
      "2  4.0  76.459948  1.0  0.0   99.000000  23.000000  0.600000  138.000000   \n",
      "3  5.0  76.459948  1.0  0.0  148.112676  16.000000  0.700000  138.000000   \n",
      "4  5.0  50.000000  0.0  0.0  148.112676  25.000000  0.600000  137.528754   \n",
      "\n",
      "        pot       hrmo  ...  cad_0  cad_1  appet_0  appet_1   pe_0   pe_1  \\\n",
      "0  4.627244  12.518156  ...   True  False    False     True  False   True   \n",
      "1  4.627244  10.700000  ...   True  False    False     True   True  False   \n",
      "2  4.400000  12.000000  ...   True  False    False     True   True  False   \n",
      "3  3.200000   8.100000  ...   True  False    False     True   True  False   \n",
      "4  4.627244  11.800000  ...   True  False    False     True   True  False   \n",
      "\n",
      "   ane_0  ane_1  classification_0  classification_1  \n",
      "0   True  False             False              True  \n",
      "1   True  False             False              True  \n",
      "2   True  False             False              True  \n",
      "3  False   True             False              True  \n",
      "4   True  False             False              True  \n",
      "\n",
      "[5 rows x 40 columns]\n"
     ]
    }
   ],
   "source": [
    "# Apply One-Hot Encoding to categorical columns\n",
    "dataset = pd.get_dummies(dataset, columns=categorical_columns)\n",
    "\n",
    "# Verify the dataset after encoding\n",
    "print(\"Dataset after One-Hot Encoding:\")\n",
    "print(dataset.head())\n"
   ]
  },
  {
   "cell_type": "markdown",
   "id": "6b5b3d18-e213-424f-bad3-3c67e61b86e8",
   "metadata": {},
   "source": [
    "#### Step 2: Split Features and Target"
   ]
  },
  {
   "cell_type": "code",
   "execution_count": 17,
   "id": "a49bdfc0-0459-4885-818e-d1feddc0ead9",
   "metadata": {},
   "outputs": [],
   "source": [
    "# Separate features and target\n",
    "X = dataset.iloc[:, :-1].values  # All rows, all columns except the target\n",
    "y = dataset.iloc[:, -1].values   # All rows, only the target column\n"
   ]
  },
  {
   "cell_type": "markdown",
   "id": "710c1b03-8b3f-4a9d-9d17-561048d1544f",
   "metadata": {},
   "source": [
    "#### Step 3: Standard Scaling"
   ]
  },
  {
   "cell_type": "code",
   "execution_count": 18,
   "id": "4da2e371-eb68-41c5-a623-520e34da1679",
   "metadata": {},
   "outputs": [],
   "source": [
    "from sklearn.preprocessing import StandardScaler\n",
    "\n",
    "# Standardize features\n",
    "scaler = StandardScaler()\n",
    "X_scaled = scaler.fit_transform(X)\n"
   ]
  },
  {
   "cell_type": "markdown",
   "id": "a78cf6ef-d0a8-4660-b193-9740694b72ac",
   "metadata": {},
   "source": [
    "#### Step 4: Apply PCA"
   ]
  },
  {
   "cell_type": "code",
   "execution_count": 19,
   "id": "711786e6-033e-4ada-84a4-fd8ca1ded209",
   "metadata": {},
   "outputs": [
    {
     "name": "stdout",
     "output_type": "stream",
     "text": [
      "Explained Variance Ratio: [0.26989991 0.07882963]\n"
     ]
    }
   ],
   "source": [
    "from sklearn.decomposition import PCA\n",
    "\n",
    "# Apply PCA (choose the number of components based on your requirement)\n",
    "pca = PCA(n_components=2)  # Change `2` to the desired number of components\n",
    "X_pca = pca.fit_transform(X_scaled)\n",
    "\n",
    "# Explained variance ratio\n",
    "explained_variance = pca.explained_variance_ratio_\n",
    "print(\"Explained Variance Ratio:\", explained_variance)\n"
   ]
  },
  {
   "cell_type": "markdown",
   "id": "ba5daff3-5d37-41a5-be63-7dde281049df",
   "metadata": {},
   "source": [
    "## Summary:\n",
    "\n",
    "- Since PCA is sensitive to numerical scales, One-Hot Encoding is recommended after Label Encoding for categorical features.\n",
    "- Always scale the dataset before applying PCA.\n",
    "- The output of PCA can then be used as the reduced feature set for further modeling.\n"
   ]
  },
  {
   "cell_type": "markdown",
   "id": "0750463d-297c-4d31-bbb2-e648d7a3ffe5",
   "metadata": {},
   "source": [
    "## The output indicates the proportion of the dataset's variance that each principal component accounts for. Here's how to interpret the result:\n",
    "\n",
    "### Explained Variance Ratio\n",
    "\n",
    "**First Principal Component (PC1):** 0.26989991 (Approximately 27%)\n",
    "- This means the first principal component explains about 27% of the total variance in the dataset.\n",
    "\n",
    "**Second Principal Component (PC2):** 0.07882963 (Approximately 7.88%)\n",
    "- The second principal component explains about 7.88% of the total variance.\n",
    "\n",
    "### Cumulative Variance Explained\n",
    "\n",
    "If you sum these two values:\n",
    "\n",
    "0.26989991 + 0.07882963 = 0.34872954 (Approximately 34.87%)\n",
    "\n",
    "This means the first two principal components combined explain about 34.87% of the variance in the dataset.\n",
    "\n",
    "### What Does This Mean?\n",
    "\n",
    "PCA has reduced the dimensionality of your dataset while retaining about 34.87% of the variance.\n",
    "\n",
    "Depending on your use case, you might decide to:\n",
    "- Increase the number of components (`n_components`) to capture more variance.\n",
    "- Proceed with these two components if they provide sufficient insight or predictive power.\n"
   ]
  },
  {
   "cell_type": "markdown",
   "id": "35471c5e-3e2d-455c-be3c-7314fff4028f",
   "metadata": {},
   "source": [
    "## Next Steps\n",
    "\n",
    "**Step 1: Visualize the Reduced Data:**\n",
    "- Plot the two principal components to see how the data clusters.\n"
   ]
  },
  {
   "cell_type": "code",
   "execution_count": 20,
   "id": "fe3e16da-6495-43f4-8ae0-d890fee15665",
   "metadata": {},
   "outputs": [
    {
     "data": {
      "image/png": "[encoded data removed]",
      "text/plain": [
       "<Figure size 640x480 with 2 Axes>"
      ]
     },
     "metadata": {},
     "output_type": "display_data"
    }
   ],
   "source": [
    "import matplotlib.pyplot as plt\n",
    "\n",
    "plt.scatter(X_pca[:, 0], X_pca[:, 1], c=y, cmap='viridis')  # Assuming `y` is the target\n",
    "plt.title('PCA - 2 Components')\n",
    "plt.xlabel('Principal Component 1')\n",
    "plt.ylabel('Principal Component 2')\n",
    "plt.colorbar()\n",
    "plt.show()\n"
   ]
  },
  {
   "cell_type": "markdown",
   "id": "afc2393a-9fb3-4cac-bdc4-187392ca3481",
   "metadata": {},
   "source": [
    "### Step 2: Decide on the Number of Components\n",
    "Use a scree plot to determine how many components to retain for capturing sufficient variance.\n"
   ]
  },
  {
   "cell_type": "code",
   "execution_count": 21,
   "id": "4cd4ae66-f6f7-429a-a84b-4ee30b9ab048",
   "metadata": {},
   "outputs": [
    {
     "data": {
      "image/png": "[encoded data removed]",
      "text/plain": [
       "<Figure size 640x480 with 1 Axes>"
      ]
     },
     "metadata": {},
     "output_type": "display_data"
    }
   ],
   "source": [
    "pca_full = PCA()\n",
    "pca_full.fit(X_scaled)\n",
    "explained_variance_full = pca_full.explained_variance_ratio_\n",
    "\n",
    "plt.plot(range(1, len(explained_variance_full) + 1), explained_variance_full, marker='o')\n",
    "plt.title('Scree Plot')\n",
    "plt.xlabel('Principal Component')\n",
    "plt.ylabel('Explained Variance Ratio')\n",
    "plt.show()\n"
   ]
  },
  {
   "cell_type": "code",
   "execution_count": 23,
   "id": "0c2bc378-9819-4c9c-bed7-8050296993f1",
   "metadata": {},
   "outputs": [],
   "source": [
    "def cm_prediction(classifier,X_test):\n",
    "     y_pred = classifier.predict(X_test)\n",
    "        \n",
    "        # Making the Confusion Matrix\n",
    "     from sklearn.metrics import confusion_matrix\n",
    "     cm = confusion_matrix(y_test, y_pred)\n",
    "        \n",
    "     from sklearn.metrics import accuracy_score \n",
    "     from sklearn.metrics import classification_report \n",
    "        #from sklearn.metrics import confusion_matrix\n",
    "        #cm = confusion_matrix(y_test, y_pred)\n",
    "        \n",
    "     Accuracy=accuracy_score(y_test, y_pred )\n",
    "        \n",
    "     report=classification_report(y_test, y_pred)\n",
    "     return  classifier,Accuracy,report,X_test,y_test,cm\n"
   ]
  },
  {
   "cell_type": "code",
   "execution_count": 24,
   "id": "9f6669b8-0b96-4c22-b6ad-324c6868b9cc",
   "metadata": {},
   "outputs": [],
   "source": [
    "def logistic(X_train,y_train,X_test):       \n",
    "        # Fitting K-NN to the Training set\n",
    "        from sklearn.linear_model import LogisticRegression\n",
    "        classifier = LogisticRegression(random_state = 0)\n",
    "        classifier.fit(X_train, y_train)\n",
    "        classifier,Accuracy,report,X_test,y_test,cm=cm_prediction(classifier,X_test)\n",
    "        return  classifier,Accuracy,report,X_test,y_test,cm "
   ]
  },
  {
   "cell_type": "code",
   "execution_count": 25,
   "id": "79606e88-c3a0-4b32-8b26-6d4a965d8bfa",
   "metadata": {},
   "outputs": [],
   "source": [
    "def svm_linear(X_train,y_train,X_test):\n",
    "                \n",
    "        from sklearn.svm import SVC\n",
    "        classifier = SVC(kernel = 'linear', random_state = 0)\n",
    "        classifier.fit(X_train, y_train)\n",
    "        classifier,Accuracy,report,X_test,y_test,cm=cm_prediction(classifier,X_test)\n",
    "        return  classifier,Accuracy,report,X_test,y_test,cm"
   ]
  },
  {
   "cell_type": "code",
   "execution_count": 26,
   "id": "c371c2ba-e41b-429c-be01-f97ae3ed012e",
   "metadata": {},
   "outputs": [],
   "source": [
    "def svm_NL(X_train,y_train,X_test):\n",
    "                \n",
    "        from sklearn.svm import SVC\n",
    "        classifier = SVC(kernel = 'rbf', random_state = 0)\n",
    "        classifier.fit(X_train, y_train)\n",
    "        classifier,Accuracy,report,X_test,y_test,cm=cm_prediction(classifier,X_test)\n",
    "        return  classifier,Accuracy,report,X_test,y_test,cm"
   ]
  },
  {
   "cell_type": "code",
   "execution_count": 27,
   "id": "fcb40d3b-8829-4b19-ae15-c7aea629f0a3",
   "metadata": {},
   "outputs": [],
   "source": [
    "def Navie(X_train,y_train,X_test):       \n",
    "        # Fitting K-NN to the Training set\n",
    "        from sklearn.naive_bayes import GaussianNB\n",
    "        classifier = GaussianNB()\n",
    "        classifier.fit(X_train, y_train)\n",
    "        classifier,Accuracy,report,X_test,y_test,cm=cm_prediction(classifier,X_test)\n",
    "        return  classifier,Accuracy,report,X_test,y_test,cm   "
   ]
  },
  {
   "cell_type": "code",
   "execution_count": 28,
   "id": "4f8fe511-8524-48a6-88e2-29d51dc8b102",
   "metadata": {},
   "outputs": [],
   "source": [
    "def knn(X_train,y_train,X_test):\n",
    "           \n",
    "        # Fitting K-NN to the Training set\n",
    "        from sklearn.neighbors import KNeighborsClassifier\n",
    "        classifier = KNeighborsClassifier(n_neighbors = 5, metric = 'minkowski', p = 2)\n",
    "        classifier.fit(X_train, y_train)\n",
    "        classifier,Accuracy,report,X_test,y_test,cm=cm_prediction(classifier,X_test)\n",
    "        return  classifier,Accuracy,report,X_test,y_test,cm"
   ]
  },
  {
   "cell_type": "code",
   "execution_count": 29,
   "id": "d91a4282-13ee-4192-a571-59d44d8fe1ac",
   "metadata": {},
   "outputs": [],
   "source": [
    "def Decision(X_train,y_train,X_test):\n",
    "        \n",
    "        # Fitting K-NN to the Training set\n",
    "        from sklearn.tree import DecisionTreeClassifier\n",
    "        classifier = DecisionTreeClassifier(criterion = 'entropy', random_state = 0)\n",
    "        classifier.fit(X_train, y_train)\n",
    "        classifier,Accuracy,report,X_test,y_test,cm=cm_prediction(classifier,X_test)\n",
    "        return  classifier,Accuracy,report,X_test,y_test,cm  "
   ]
  },
  {
   "cell_type": "code",
   "execution_count": 30,
   "id": "3f784f58-dee8-4672-984d-8442c8a87dce",
   "metadata": {},
   "outputs": [],
   "source": [
    "def random(X_train,y_train,X_test):\n",
    "        \n",
    "        # Fitting K-NN to the Training set\n",
    "        from sklearn.ensemble import RandomForestClassifier\n",
    "        classifier = RandomForestClassifier(n_estimators = 10, criterion = 'entropy', random_state = 0)\n",
    "        classifier.fit(X_train, y_train)\n",
    "        classifier,Accuracy,report,X_test,y_test,cm=cm_prediction(classifier,X_test)\n",
    "        return  classifier,Accuracy,report,X_test,y_test,cm"
   ]
  },
  {
   "cell_type": "code",
   "execution_count": 35,
   "id": "d859b77f-d1bd-41c5-9a89-12c916245d8b",
   "metadata": {},
   "outputs": [],
   "source": [
    "def pca_classification(acclog, accsvml, accsvmnl, accknn, accnav, accdes, accrf): \n",
    "    # Create a DataFrame to store results\n",
    "    dataframe = pd.DataFrame(index=['PCA'], columns=['Logistic', 'SVMl', 'SVMnl', 'KNN', 'Navie', 'Decision', 'Random'])\n",
    "    for number, idex in enumerate(dataframe.index):      \n",
    "        dataframe['Logistic'][idex] = acclog[number]       \n",
    "        dataframe['SVMl'][idex] = accsvml[number]\n",
    "        dataframe['SVMnl'][idex] = accsvmnl[number]\n",
    "        dataframe['KNN'][idex] = accknn[number]\n",
    "        dataframe['Navie'][idex] = accnav[number]\n",
    "        dataframe['Decision'][idex] = accdes[number]\n",
    "        dataframe['Random'][idex] = accrf[number]\n",
    "    return dataframe\n"
   ]
  },
  {
   "cell_type": "code",
   "execution_count": null,
   "id": "44933cb8-d714-4977-9c3e-c934e9889eaa",
   "metadata": {},
   "outputs": [],
   "source": []
  },
  {
   "cell_type": "code",
   "execution_count": null,
   "id": "ec0c2971-75b5-4d33-85bd-7fac4ad80737",
   "metadata": {},
   "outputs": [],
   "source": []
  },
  {
   "cell_type": "code",
   "execution_count": 36,
   "id": "850b870b-0ac9-4e42-9fa8-b9f453d72f15",
   "metadata": {},
   "outputs": [
    {
     "name": "stdout",
     "output_type": "stream",
     "text": [
      "Model Performance with PCA:\n",
      "     Logistic    SVMl   SVMnl     KNN   Navie  Decision  Random\n",
      "PCA    0.9875  0.9875  0.9875  0.9875  0.9875    0.9875  0.9875\n"
     ]
    }
   ],
   "source": [
    "# Import necessary libraries\n",
    "from sklearn.model_selection import train_test_split\n",
    "from sklearn.metrics import accuracy_score\n",
    "from sklearn.linear_model import LogisticRegression\n",
    "from sklearn.svm import SVC\n",
    "from sklearn.neighbors import KNeighborsClassifier\n",
    "from sklearn.naive_bayes import GaussianNB\n",
    "from sklearn.tree import DecisionTreeClassifier\n",
    "from sklearn.ensemble import RandomForestClassifier\n",
    "import pandas as pd\n",
    "\n",
    "# Split data (Assuming X_pca and y are already prepared)\n",
    "X_train, X_test, y_train, y_test = train_test_split(X_pca, y, test_size=0.2, random_state=42)\n",
    "\n",
    "# Initialize models\n",
    "models = {\n",
    "    'Logistic': LogisticRegression(),\n",
    "    'SVMl': SVC(kernel='linear'),\n",
    "    'SVMnl': SVC(kernel='rbf'),\n",
    "    'KNN': KNeighborsClassifier(n_neighbors=5),\n",
    "    'Navie': GaussianNB(),\n",
    "    'Decision': DecisionTreeClassifier(),\n",
    "    'Random': RandomForestClassifier()\n",
    "}\n",
    "\n",
    "# Evaluate each model\n",
    "results = {}\n",
    "for name, model in models.items():\n",
    "    model.fit(X_train, y_train)\n",
    "    y_pred = model.predict(X_test)\n",
    "    accuracy = accuracy_score(y_test, y_pred)\n",
    "    results[name] = accuracy\n",
    "\n",
    "# Convert results to a DataFrame\n",
    "results_df = pd.DataFrame([results], index=['PCA'])\n",
    "\n",
    "# Display results\n",
    "print(\"Model Performance with PCA:\")\n",
    "print(results_df)\n"
   ]
  },
  {
   "cell_type": "markdown",
   "id": "63338bf5-3242-40ea-ad92-cc13eca90c4e",
   "metadata": {},
   "source": [
    "| Model     | Logistic | SVM (Linear) | SVM (Non-linear) | KNN    | Naive Bayes | Decision Tree | Random Forest |\n",
    "|-----------|----------|--------------|------------------|--------|-------------|---------------|---------------|\n",
    "| **PCA**   | 0.9875   | 0.9875       | 0.9875           | 0.9875 | 0.9875      | 0.9875        | 0.9875        |\n"
   ]
  },
  {
   "cell_type": "markdown",
   "id": "03fa1222-5324-4621-95b2-584873d55487",
   "metadata": {},
   "source": [
    "### Steps to Generate a Tabular Output of Model Performance\n",
    "\n",
    "To get an output like this, where each algorithm's performance (accuracy or another metric) is evaluated and displayed in a tabular format, you need to follow these steps:\n",
    "\n",
    "#### 1. **Prepare Your Data with PCA**\n",
    "After applying PCA, use the reduced dataset (`X_pca`) as the input for training and testing multiple machine learning models.\n",
    "\n",
    "#### 2. **Train Multiple Models**\n",
    "Train a variety of classifiers (e.g., Logistic Regression, SVM with linear kernel, SVM with non-linear kernel, KNN, Naive Bayes, Decision Tree, and Random Forest) on the reduced dataset.\n",
    "\n",
    "#### 3. **Evaluate Model Performance**\n",
    "Calculate the accuracy (or any other metric) for each model using the reduced dataset. Save these results in a structured format, like a dictionary or DataFrame.\n",
    "\n",
    "#### 4. **Display the Results in Tabular Format**\n",
    "Use `pandas.DataFrame` to organize and display the results.\n"
   ]
  },
  {
   "cell_type": "markdown",
   "id": "754c5df3-edf1-4653-8df3-6e7bc96b1c96",
   "metadata": {},
   "source": [
    "**Yes, you can adapt the same approach for PCA results as you used for the SelectKBest results. However, if the output shows the same accuracy values for all models, there might be an issue in your implementation. This could be due to:**\n",
    "\n",
    "- **Data Issues:** If the dataset is too simple or the PCA-transformed features lack variability, the models might perform similarly.\n",
    "- **Model Training:** Ensure each model is correctly configured and has the opportunity to leverage the transformed data effectively.\n",
    "- **Metric Calculation:** Verify that the `accuracy_score` function is correctly applied and that the models are trained and tested on distinct sets of data.\n",
    "\n",
    "**Here’s how you can adapt the selectk_Classification function for PCA results, ensuring it handles distinct metrics for each model:**\n"
   ]
  },
  {
   "cell_type": "code",
   "execution_count": 32,
   "id": "72de933d-bf41-46b3-8e2d-5ed878d7b598",
   "metadata": {},
   "outputs": [],
   "source": [
    "def pca_classification(acclog, accsvml, accsvmnl, accknn, accnav, accdes, accrf): \n",
    "    # Create a DataFrame to store results\n",
    "    dataframe = pd.DataFrame(index=['PCA'], columns=['Logistic', 'SVMl', 'SVMnl', 'KNN', 'Navie', 'Decision', 'Random'])\n",
    "    for number, idex in enumerate(dataframe.index):      \n",
    "        dataframe['Logistic'][idex] = acclog[number]       \n",
    "        dataframe['SVMl'][idex] = accsvml[number]\n",
    "        dataframe['SVMnl'][idex] = accsvmnl[number]\n",
    "        dataframe['KNN'][idex] = accknn[number]\n",
    "        dataframe['Navie'][idex] = accnav[number]\n",
    "        dataframe['Decision'][idex] = accdes[number]\n",
    "        dataframe['Random'][idex] = accrf[number]\n",
    "    return dataframe\n"
   ]
  },
  {
   "cell_type": "markdown",
   "id": "eafb5aac-fb47-48f0-ad5d-aa841685acd4",
   "metadata": {},
   "source": [
    "## Debugging the Identical Accuracy Issue\n",
    "\n",
    "**Check the following in your PCA-based evaluation process:**\n",
    "\n",
    "### PCA Variance Check\n"
   ]
  },
  {
   "cell_type": "code",
   "execution_count": 34,
   "id": "df4aac20-2554-4d51-bd78-a7f9765b0afc",
   "metadata": {},
   "outputs": [
    {
     "name": "stdout",
     "output_type": "stream",
     "text": [
      "Explained Variance Ratio: [0.26989991 0.07882963]\n"
     ]
    }
   ],
   "source": [
    "print(\"Explained Variance Ratio:\", explained_variance)\n"
   ]
  },
  {
   "cell_type": "markdown",
   "id": "401df371-57ce-4413-b996-29600247b89b",
   "metadata": {},
   "source": [
    "**The output Explained Variance Ratio:** [0.26989991, 0.07882963] indicates that the two principal components (selected via PCA(n_components=2)) explain about 26.99% and 7.88% of the total variance in the dataset, respectively. This totals approximately 34.87% of the variance explained by these two components.\n",
    "\n",
    "### Interpretation\n",
    "\n",
    "#### Low Variance Explained:\n",
    "The two selected principal components account for only a small portion of the dataset's total variability. This might mean that the dataset is complex, and reducing it to two dimensions has discarded much of the information.\n",
    "\n",
    "#### Impact on Model Accuracy:\n",
    "If the PCA transformation loses significant variance, models trained on these reduced features may perform similarly due to the limited differentiation among the features.\n"
   ]
  },
  {
   "cell_type": "markdown",
   "id": "3dd69ca3-4066-4459-a689-f65cf28baa99",
   "metadata": {},
   "source": [
    "## Next Steps to Address the Identical Accuracy Issue\n",
    "\n",
    "### Increase the Number of Components\n",
    "Try increasing the `n_components` parameter to retain more variance.\n"
   ]
  },
  {
   "cell_type": "code",
   "execution_count": 37,
   "id": "444ce873-ad54-4d33-aee4-ac9f65d147eb",
   "metadata": {},
   "outputs": [
    {
     "name": "stdout",
     "output_type": "stream",
     "text": [
      "Explained Variance Ratio: [0.26989991 0.07882963 0.06354765 0.05226852 0.04876083 0.04721816\n",
      " 0.03955962 0.03803946 0.03443435 0.03350824]\n",
      "Cumulative Variance Explained: 0.7060663633495166\n"
     ]
    }
   ],
   "source": [
    "pca = PCA(n_components=10)  # Adjust based on the dataset\n",
    "X_pca = pca.fit_transform(X_scaled)\n",
    "explained_variance = pca.explained_variance_ratio_\n",
    "print(\"Explained Variance Ratio:\", explained_variance)\n",
    "print(\"Cumulative Variance Explained:\", sum(explained_variance))\n"
   ]
  },
  {
   "cell_type": "markdown",
   "id": "ed6eb57e-d53e-438b-9eea-56e876d05ff5",
   "metadata": {},
   "source": [
    "## The output shows the explained variance ratio for the first 10 principal components after applying PCA on your dataset, and the cumulative variance explained by these components.\n",
    "\n",
    "### Interpretation:\n",
    "\n",
    "**Explained Variance Ratio:**\n",
    "- The individual components explain varying amounts of the total variance in the dataset:\n",
    "  - Component 1 explains 26.99% of the variance.\n",
    "  - Component 2 explains 7.88%, and so on.\n",
    "- The total explained variance for these 10 components is relatively high, summing to about 70.61%. This means that with just these 10 components, you're capturing over 70% of the original dataset's variability.\n",
    "\n",
    "**Cumulative Variance Explained:**\n",
    "- Cumulative Variance indicates how much of the total variance is explained by all the selected components.\n",
    "- In this case, the first 10 components together explain 70.61% of the variance in the data.\n",
    "- This is a significant portion, and usually, if we explain around 70%-90% of the total variance, it's considered a good reduction.\n",
    "\n",
    "### Next Steps:\n",
    "\n",
    "**Feature Reduction and Model Training:**\n",
    "- Given that you have reduced the dataset to just 10 components, you can now proceed with model training using the `X_pca` data. This should help your models focus on the most important features while reducing noise.\n",
    "- Train the models (e.g., Logistic Regression, SVM, Random Forest) on the `X_pca` dataset to see if the performance improves compared to the original dataset.\n",
    "\n",
    "**Explaining More Variance:**\n",
    "- If you'd like to explain even more variance, you can try increasing the number of components (`n_components`) until you achieve a satisfactory level of explained variance (typically 80%-90%).\n"
   ]
  },
  {
   "cell_type": "code",
   "execution_count": 38,
   "id": "3b829328-b477-4421-878d-f52d17d61620",
   "metadata": {},
   "outputs": [],
   "source": [
    "pca = PCA(n_components=15)  # Increase the number of components\n",
    "X_pca = pca.fit_transform(X_scaled)\n"
   ]
  },
  {
   "cell_type": "markdown",
   "id": "dd7fd51a-0566-4f82-95d1-675c72cb563b",
   "metadata": {},
   "source": [
    "## Visualize Explained Variance\n",
    "\n",
    "It might be helpful to plot the explained variance ratio of each component to visually inspect how much each component contributes.\n"
   ]
  },
  {
   "cell_type": "code",
   "execution_count": 39,
   "id": "0a894d08-9b30-464e-b903-5b33e9c7fd70",
   "metadata": {},
   "outputs": [
    {
     "data": {
      "image/png": "[encoded data removed]",
      "text/plain": [
       "<Figure size 640x480 with 1 Axes>"
      ]
     },
     "metadata": {},
     "output_type": "display_data"
    }
   ],
   "source": [
    "import matplotlib.pyplot as plt\n",
    "plt.plot(range(1, 11), explained_variance, marker='o')\n",
    "plt.title(\"Explained Variance Ratio by PCA Components\")\n",
    "plt.xlabel(\"Principal Component\")\n",
    "plt.ylabel(\"Explained Variance Ratio\")\n",
    "plt.show()\n"
   ]
  },
  {
   "cell_type": "code",
   "execution_count": null,
   "id": "aac76b2d-ed2d-4289-b4bd-87bc321c9ef0",
   "metadata": {},
   "outputs": [],
   "source": []
  }
 ],
 "metadata": {
  "kernelspec": {
   "display_name": "Python 3 (ipykernel)",
   "language": "python",
   "name": "python3"
  },
  "language_info": {
   "codemirror_mode": {
    "name": "ipython",
    "version": 3
   },
   "file_extension": ".py",
   "mimetype": "text/x-python",
   "name": "python",
   "nbconvert_exporter": "python",
   "pygments_lexer": "ipython3",
   "version": "3.10.15"
  }
 },
 "nbformat": 4,
 "nbformat_minor": 5
}
